{
 "cells": [
  {
   "cell_type": "code",
   "execution_count": null,
   "metadata": {
    "colab": {},
    "colab_type": "code",
    "id": "AFKSLhzPr8Xi"
   },
   "outputs": [],
   "source": [
    "import numpy as np\n",
    "import pandas as pd\n",
    "import matplotlib.pyplot as plt\n",
    "import seaborn as sns\n",
    "import plotly.graph_objects as go\n",
    "import plotly.offline as py\n",
    "import plotly.express as px\n",
    "\n",
    "sns.set()"
   ]
  },
  {
   "cell_type": "code",
   "execution_count": null,
   "metadata": {
    "colab": {
     "base_uri": "https://localhost:8080/",
     "height": 736
    },
    "colab_type": "code",
    "id": "5ltcM9xVpnM-",
    "outputId": "bc237bae-cbc7-469e-f858-0b2b5b9797c0"
   },
   "outputs": [],
   "source": [
    "# Import data\n",
    "df = pd.read_csv('LS_2.0.csv')\n",
    "df.columns = df.columns.str.replace('\\n',' ')\n",
    "df.head(10)"
   ]
  },
  {
   "cell_type": "markdown",
   "metadata": {
    "colab_type": "text",
    "id": "o2AZVXzm4CoJ"
   },
   "source": [
    "#Number of constituency per state"
   ]
  },
  {
   "cell_type": "code",
   "execution_count": null,
   "metadata": {
    "colab": {
     "base_uri": "https://localhost:8080/",
     "height": 617
    },
    "colab_type": "code",
    "id": "aey8XH-KOpk-",
    "outputId": "4a5d61a9-6481-4767-dcc4-238b7a283c37"
   },
   "outputs": [],
   "source": [
    "constituencies_per_state = df.groupby('STATE')['CONSTITUENCY'].nunique().reset_index().sort_values('CONSTITUENCY', ascending=False)\n",
    "fig = px.bar(constituencies_per_state, x='STATE', y='CONSTITUENCY', color='CONSTITUENCY', height=600)\n",
    "fig.show()"
   ]
  },
  {
   "cell_type": "markdown",
   "metadata": {
    "colab_type": "text",
    "id": "UMORekvO4dJv"
   },
   "source": [
    " Above bar graph we see that Uttar Pradesh have higest constituency i.e 80 and many state have only 1 constituency."
   ]
  },
  {
   "cell_type": "markdown",
   "metadata": {
    "colab_type": "text",
    "id": "jQQ-ahgF5TWV"
   },
   "source": [
    "#Number of candidate from each party"
   ]
  },
  {
   "cell_type": "code",
   "execution_count": null,
   "metadata": {
    "colab": {
     "base_uri": "https://localhost:8080/",
     "height": 517
    },
    "colab_type": "code",
    "id": "HuSrYAh6HExQ",
    "outputId": "187f273b-bf66-4691-bb0b-f81b7b4e75ee"
   },
   "outputs": [],
   "source": [
    "candidates_per_party = df.PARTY.value_counts().reset_index().rename(columns = {'index':'Party','PARTY':'Candidates'}).head(50)\n",
    "candidates_per_party = candidates_per_party[candidates_per_party['Party'] != 'NOTA']\n",
    "candidates_per_party = candidates_per_party.reset_index().sort_values('Candidates', ascending=False)\n",
    "fig = px.bar(candidates_per_party, x='Party', y='Candidates', color='Candidates', height=500)\n",
    "fig.show()"
   ]
  },
  {
   "cell_type": "markdown",
   "metadata": {
    "colab_type": "text",
    "id": "PJHN363Y5fxf"
   },
   "source": [
    "BJP have most number of candidates (420) and Congress comes in 2nd with  total of 413 candidate in 2019 election followed by IND with 201 number of candidates."
   ]
  },
  {
   "cell_type": "markdown",
   "metadata": {
    "colab_type": "text",
    "id": "Tpjl_qVXFL62"
   },
   "source": [
    "#Party wise vote share"
   ]
  },
  {
   "cell_type": "code",
   "execution_count": null,
   "metadata": {
    "colab": {
     "base_uri": "https://localhost:8080/",
     "height": 542
    },
    "colab_type": "code",
    "id": "tXmkO_TXQP9v",
    "outputId": "3535f0d8-ff8d-427b-a016-c655fb8a0d45"
   },
   "outputs": [],
   "source": [
    "vote_share_top5 = df.groupby('PARTY')['TOTAL VOTES'].sum().nlargest(5).index.tolist()\n",
    "def vote_share(row):\n",
    "    if row['PARTY'] not in vote_share_top5:\n",
    "        return 'Other'\n",
    "    else:\n",
    "        return row['PARTY']\n",
    "df['Party New'] = df.apply(vote_share,axis =1)\n",
    "counts = df.groupby('Party New')['TOTAL VOTES'].sum(sort=True)\n",
    "labels = counts.index\n",
    "values = counts.values\n",
    "pie = go.Pie(labels=labels, values=values)\n",
    "fig = go.Figure(data=[pie])\n",
    "py.iplot(fig)"
   ]
  },
  {
   "cell_type": "markdown",
   "metadata": {
    "colab_type": "text",
    "id": "dm1PHB6RFUNu"
   },
   "source": [
    "Above pie chart shows that bjp have higest vote share which is equals to the 38.5 congress comes in 2nd with 20.1% of votes. 31.1% of votes are given to parties excluding bjp, inc, aitc, bsp and sp."
   ]
  },
  {
   "cell_type": "markdown",
   "metadata": {
    "colab_type": "text",
    "id": "vsfwD2zHGnYM"
   },
   "source": [
    "#Number of winning candidate from top 5 party"
   ]
  },
  {
   "cell_type": "code",
   "execution_count": null,
   "metadata": {
    "colab": {
     "base_uri": "https://localhost:8080/",
     "height": 517
    },
    "colab_type": "code",
    "id": "4nEJb-ngRH9b",
    "outputId": "556ebf99-a488-402d-8132-8be65e26edb6"
   },
   "outputs": [],
   "source": [
    "winning_candidates_per_party = df.groupby('PARTY')['WINNER'].sum().reset_index().sort_values('WINNER',ascending = True)\n",
    "winning_candidates_per_party = winning_candidates_per_party[winning_candidates_per_party['WINNER'] > 0]\n",
    "winning_candidates_per_party\n",
    "fig = px.bar(winning_candidates_per_party.tail(), x='WINNER', y='PARTY', color='WINNER', height=500, orientation='h')\n",
    "fig.show()"
   ]
  },
  {
   "cell_type": "markdown",
   "metadata": {
    "colab_type": "text",
    "id": "dkK4qQHNGvoU"
   },
   "source": [
    "The bar graph above show that total 300 candidates of bjp won the election and only 52 candidate of congress won the 2019 election. The difference bewteen 1st party with higest winning candidate and 2nd party is 248. Total seats require to form goverment in lok sabha is 280."
   ]
  },
  {
   "cell_type": "markdown",
   "metadata": {
    "colab_type": "text",
    "id": "CJyWrLaxIPGt"
   },
   "source": [
    "#Number of candidate according to different age group"
   ]
  },
  {
   "cell_type": "code",
   "execution_count": null,
   "metadata": {
    "colab": {
     "base_uri": "https://localhost:8080/",
     "height": 542
    },
    "colab_type": "code",
    "id": "XmY1KKVAfNLb",
    "outputId": "ade10fc1-b6a6-47a3-bf10-73a27827d5a5"
   },
   "outputs": [],
   "source": [
    "fig = px.histogram(df.dropna(), x=\"AGE\",hover_data=df.columns)\n",
    "fig.show()"
   ]
  },
  {
   "cell_type": "markdown",
   "metadata": {
    "colab_type": "text",
    "id": "Vr-Fr3qaIcVZ"
   },
   "source": [
    "#Youngest winning candidate\n"
   ]
  },
  {
   "cell_type": "code",
   "execution_count": null,
   "metadata": {
    "colab": {
     "base_uri": "https://localhost:8080/",
     "height": 517
    },
    "colab_type": "code",
    "id": "FJZcYZdCQxl7",
    "outputId": "097207fd-011d-44e8-9b2d-0d439d3c574d"
   },
   "outputs": [],
   "source": [
    "df_winners = df[df['WINNER']==1]\n",
    "df_winners = df_winners.sort_values('AGE').head(10)\n",
    "fig = px.bar(df_winners, x='NAME', y='AGE', \n",
    "color='AGE', height=500, hover_data=['PARTY','SYMBOL','CONSTITUENCY','STATE'])\n",
    "fig.show()"
   ]
  },
  {
   "cell_type": "markdown",
   "metadata": {
    "colab_type": "text",
    "id": "t-UdbnCAIn5h"
   },
   "source": [
    "Goddeti Madhavi (26) from Aruku constituency was youngest MP in 2019 lok sabha election. \n",
    "\n"
   ]
  },
  {
   "cell_type": "markdown",
   "metadata": {
    "colab_type": "text",
    "id": "Wb4qji_QJLRB"
   },
   "source": [
    "#Oldest winning candidate\n",
    "\n"
   ]
  },
  {
   "cell_type": "code",
   "execution_count": null,
   "metadata": {
    "colab": {
     "base_uri": "https://localhost:8080/",
     "height": 517
    },
    "colab_type": "code",
    "id": "pwqi5FnAicer",
    "outputId": "b138a0ab-01d3-4478-ed03-4baf8fa0e025"
   },
   "outputs": [],
   "source": [
    "df_winners = df[df['WINNER']==1]\n",
    "df_winners = df_winners.sort_values('AGE',ascending=False).head(10)\n",
    "fig = px.bar(df_winners, x='NAME', y='AGE', color='AGE', height=500, hover_data=['PARTY','SYMBOL','CONSTITUENCY','STATE'])\n",
    "fig.show()"
   ]
  },
  {
   "cell_type": "markdown",
   "metadata": {
    "colab_type": "text",
    "id": "f5M2zsLSJmdE"
   },
   "source": [
    "Dr. Shafiqur Rehman Barq (86) from Sambhal constituency was most aged MP in 2019 lok sabha election."
   ]
  },
  {
   "cell_type": "markdown",
   "metadata": {
    "colab_type": "text",
    "id": "kDVkC3qeKrKB"
   },
   "source": [
    "#Criminal cases against candidate"
   ]
  },
  {
   "cell_type": "code",
   "execution_count": null,
   "metadata": {
    "colab": {
     "base_uri": "https://localhost:8080/",
     "height": 585
    },
    "colab_type": "code",
    "id": "JYklrV-9tU_D",
    "outputId": "516bfe8d-bb6f-40f1-952d-bd2540f018ab"
   },
   "outputs": [],
   "source": [
    "df['CRIMINAL CASES'] = df['CRIMINAL CASES'].str.replace('Not Available','0')\n",
    "df['CRIMINAL CASES'] = df['CRIMINAL CASES'].fillna(0)\n",
    "df['CRIMINAL CASES'] = df['CRIMINAL CASES'].astype(int)\n",
    "criminal_cases = df[(df['CRIMINAL CASES'] != 'Not Available') & (df['CRIMINAL CASES'].notnull())]\n",
    "criminal_cases = criminal_cases.groupby('PARTY')['CRIMINAL CASES'].sum().reset_index().sort_values('CRIMINAL CASES',ascending=False).head(30)\n",
    "fig = px.bar(criminal_cases, x='PARTY', y='CRIMINAL CASES', color='CRIMINAL CASES', height=500)\n",
    "fig.show()"
   ]
  },
  {
   "cell_type": "markdown",
   "metadata": {
    "colab_type": "text",
    "id": "XeRWeEurSJg9"
   },
   "source": [
    "BJP have higest number of criminal record with total count of 898. Congress comes in second with total criminal record of 734."
   ]
  },
  {
   "cell_type": "code",
   "execution_count": null,
   "metadata": {
    "colab": {
     "base_uri": "https://localhost:8080/",
     "height": 585
    },
    "colab_type": "code",
    "id": "XSp6XatAH2g1",
    "outputId": "5099630e-772d-41a3-a7d5-e10d44981191"
   },
   "outputs": [],
   "source": [
    "df_criminal_cases = df.loc[(df['CRIMINAL CASES'].notnull()) & (df['CRIMINAL CASES'] != 'Not Available')]\n",
    "def criminal_cases(row):\n",
    "    if row['CRIMINAL CASES'] == 0:\n",
    "        return 'No'\n",
    "    else:\n",
    "        return 'Yes'\n",
    "df_criminal_cases['HAS CRIMINAL CASE'] = df_criminal_cases.apply(criminal_cases,axis = 1)\n",
    "df_criminal_cases = df_criminal_cases[df_criminal_cases['WINNER']==1]\n",
    "df_criminal_cases_count = df_criminal_cases.groupby(['PARTY','HAS CRIMINAL CASE']).size().reset_index()\n",
    "df_criminal_cases_count.columns = ['PARTY','HAS CRIMINAL CASE','COUNT']\n",
    "df_criminal_cases_count = df_criminal_cases_count.sort_values('COUNT', ascending=False)\n",
    "#df_criminal_cases_count = df_criminal_cases.sort_values(df_criminal_cases_count.columns[2], ascending=False)\n",
    "#df_criminal_cases_count.columns = ['PARTY','HAS CRIMINAL CASE','COUNT']\n",
    "fig = px.bar(df_criminal_cases_count, x=\"PARTY\", y=\"COUNT\", color='HAS CRIMINAL CASE', height=500)\n",
    "fig.show()"
   ]
  },
  {
   "cell_type": "markdown",
   "metadata": {
    "colab_type": "text",
    "id": "mRqw1LIdH62Y"
   },
   "source": [
    "Total 233 candidate with criminal record won the election which is about 43% of total lok sabha seats.114 elected candidate os bjp have criminal record against them whereas in congress 30 elected candidate have criminal record and 22 don't have any criminal record."
   ]
  },
  {
   "cell_type": "markdown",
   "metadata": {
    "colab_type": "text",
    "id": "N0tc9vONICQ8"
   },
   "source": [
    "#Education qualification of candidate"
   ]
  },
  {
   "cell_type": "code",
   "execution_count": null,
   "metadata": {
    "colab": {
     "base_uri": "https://localhost:8080/",
     "height": 517
    },
    "colab_type": "code",
    "id": "u6XV_05rmCIJ",
    "outputId": "71767cd6-a741-4bc7-f20d-3d19d7e818e5"
   },
   "outputs": [],
   "source": [
    "df['EDUCATION'] = df['EDUCATION'].str.replace('Post Graduate\\n','Post Graduate')\n",
    "df['EDUCATION'] = df['EDUCATION'].fillna('Others') \n",
    "education = df[df['EDUCATION'] != 'Not Available']\n",
    "education = education['EDUCATION'].value_counts().reset_index()\n",
    "education.columns = ['EDUCATION','COUNT']\n",
    "fig = px.bar(education, x='EDUCATION', y='COUNT', color='COUNT', height=500)\n",
    "fig.show()"
   ]
  },
  {
   "cell_type": "markdown",
   "metadata": {
    "colab_type": "text",
    "id": "Hd4uGlkfMJjc"
   },
   "source": [
    "Most of the candidates in 2019 election was well qualified but still there are some number of candidate whose qualification was not above 10th pass."
   ]
  },
  {
   "cell_type": "markdown",
   "metadata": {
    "colab_type": "text",
    "id": "dM99JZB_M3UZ"
   },
   "source": [
    "#Voting percentage per state"
   ]
  },
  {
   "cell_type": "code",
   "execution_count": null,
   "metadata": {
    "colab": {
     "base_uri": "https://localhost:8080/",
     "height": 517
    },
    "colab_type": "code",
    "id": "m6bfDGwLmFBi",
    "outputId": "4c54c397-e986-4eb3-c19d-9798ae7267ff"
   },
   "outputs": [],
   "source": [
    "df_votes_perct_constituency = df.groupby(['STATE','CONSTITUENCY','TOTAL ELECTORS'])['TOTAL VOTES'].sum().reset_index()\n",
    "df_votes_perct_constituency['% VOTED IN CONSTITUENCY'] = round(df_votes_perct_constituency['TOTAL VOTES']*100/df_votes_perct_constituency['TOTAL ELECTORS'],2)\n",
    "df_voters_state = df[['STATE','CONSTITUENCY','TOTAL ELECTORS']].drop_duplicates()\n",
    "df_voters_state = df_voters_state.groupby('STATE')['TOTAL ELECTORS'].sum().reset_index()\n",
    "df_votes_state = df.groupby('STATE')['TOTAL VOTES'].sum().reset_index().sort_values('TOTAL VOTES',ascending = False)\n",
    "df_votes_perct_state = pd.merge(df_votes_state,df_voters_state, on ='STATE',how = 'left')\n",
    "df_votes_perct_state['% VOTED IN STATE'] = round(df_votes_perct_state['TOTAL VOTES']*100/df_votes_perct_state['TOTAL ELECTORS'],2)\n",
    "df_votes_perct_state = df_votes_perct_state.sort_values('% VOTED IN STATE',ascending = False)\n",
    "fig = px.bar(df_votes_perct_state, x='STATE', y='% VOTED IN STATE', color='% VOTED IN STATE', height=500)\n",
    "fig.show()"
   ]
  },
  {
   "cell_type": "markdown",
   "metadata": {
    "colab_type": "text",
    "id": "HawP24a_M8hj"
   },
   "source": [
    "Lakshadweep have higest voting percentage of 83.75% and Jammu & kashmir have lowest voting percentage of 43.32. Overall voting percentage was around 67%."
   ]
  },
  {
   "cell_type": "code",
   "execution_count": null,
   "metadata": {
    "colab": {
     "base_uri": "https://localhost:8080/",
     "height": 542
    },
    "colab_type": "code",
    "id": "TSKwKcjwmJ4D",
    "outputId": "b7221ca3-8436-4b31-b6b4-f86abb47951a"
   },
   "outputs": [],
   "source": [
    "df_assets = df.copy()\n",
    "df_assets[['ASSETS2','ASSETS_VALUE']] = df_assets['ASSETS'].str.split('~',expand=True)\n",
    "df_assets.drop(['ASSETS2'],axis =1,inplace=True)\n",
    "df_assets = df_assets[df_assets['ASSETS_VALUE'].notnull()]\n",
    "def asset_range(row):\n",
    "    if row['ASSETS_VALUE'].endswith('Crore+'):\n",
    "        return 'Crore+'\n",
    "    elif row['ASSETS_VALUE'].endswith('Lacs+'):\n",
    "        return 'Lakh+'\n",
    "    elif row['ASSETS_VALUE'].endswith('Thou+'):\n",
    "        return 'Thousand+'\n",
    "    else:\n",
    "        return 'NAN'\n",
    "\n",
    "df_assets['ASSETS_RANGE'] = df_assets.apply(asset_range,axis =1)\n",
    "df_assets['COUNT'] = 1\n",
    "df_assets = df_assets[df_assets['ASSETS_RANGE'] != 'NAN']\n",
    "counts = df_assets.groupby('ASSETS_RANGE')['COUNT'].sum(sort=True)\n",
    "labels = counts.index\n",
    "values = counts.values\n",
    "pie = go.Pie(labels=labels, values=values, marker=dict(line=dict(color='#000000', width=1)))\n",
    "layout = go.Layout(title='Assests of Candidates')\n",
    "fig = go.Figure(data=[pie], layout=layout)\n",
    "py.iplot(fig)"
   ]
  },
  {
   "cell_type": "markdown",
   "metadata": {
    "colab_type": "text",
    "id": "V_1vhEDgOe7P"
   },
   "source": [
    "Around 69.2% of candidates have assests above crore and 29.5% of candidates have assest above lakhs rupee. "
   ]
  },
  {
   "cell_type": "markdown",
   "metadata": {
    "colab_type": "text",
    "id": "WvpJZhfQPrTT"
   },
   "source": [
    "#Male vs Female ratio"
   ]
  },
  {
   "cell_type": "code",
   "execution_count": null,
   "metadata": {
    "colab": {
     "base_uri": "https://localhost:8080/",
     "height": 542
    },
    "colab_type": "code",
    "id": "2eRH9SNUmO9i",
    "outputId": "73beec3d-dc0a-4a2a-b50e-daa15a531c1e"
   },
   "outputs": [],
   "source": [
    "df_gender = df['GENDER'].value_counts().reset_index()\n",
    "df_gender.columns = ['GENDER','COUNT']\n",
    "pie = go.Pie(labels=df_gender['GENDER'], values=df_gender['COUNT'], marker=dict(line=dict(color='black', width=1)))\n",
    "layout = go.Layout(title='Male vs Female Ratio - All Candidates')\n",
    "fig = go.Figure(data=[pie], layout=layout)\n",
    "py.iplot(fig)"
   ]
  },
  {
   "cell_type": "markdown",
   "metadata": {
    "colab_type": "text",
    "id": "5gIEGXxqO5YH"
   },
   "source": [
    "Only 258 female candidate was there in 2019 election which comprise of 12.8% of total candidate."
   ]
  },
  {
   "cell_type": "code",
   "execution_count": null,
   "metadata": {
    "colab": {
     "base_uri": "https://localhost:8080/",
     "height": 542
    },
    "colab_type": "code",
    "id": "l8xNcCh0mRH9",
    "outputId": "95897a48-7cd3-4d13-8155-7f9ece3e2eb0"
   },
   "outputs": [],
   "source": [
    "df_gender_won =df[df['WINNER'] == 1]\n",
    "df_gender_won = df_gender_won['GENDER'].value_counts().reset_index()\n",
    "df_gender_won.columns = ['GENDER','COUNT']\n",
    "pie = go.Pie(labels=df_gender_won['GENDER'], values=df_gender_won['COUNT'], marker=dict(line=dict(color='black', width=1)))\n",
    "layout = go.Layout(title='Male vs Female Ratio - Winners')\n",
    "fig = go.Figure(data=[pie], layout=layout)\n",
    "py.iplot(fig)"
   ]
  },
  {
   "cell_type": "markdown",
   "metadata": {
    "colab_type": "text",
    "id": "eEzaUU5ZPW24"
   },
   "source": [
    "Above pie chart show that only 76 female candidate won the election and 463 male candidate won the 2019 general election. "
   ]
  },
  {
   "cell_type": "code",
   "execution_count": null,
   "metadata": {
    "colab": {},
    "colab_type": "code",
    "id": "ODuUJkBAfvr4"
   },
   "outputs": [],
   "source": []
  }
 ],
 "metadata": {
  "colab": {
   "collapsed_sections": [],
   "name": "2019 Election.ipynb",
   "provenance": []
  },
  "kernelspec": {
   "display_name": "Python 3",
   "language": "python",
   "name": "python3"
  },
  "language_info": {
   "codemirror_mode": {
    "name": "ipython",
    "version": 3
   },
   "file_extension": ".py",
   "mimetype": "text/x-python",
   "name": "python",
   "nbconvert_exporter": "python",
   "pygments_lexer": "ipython3",
   "version": "3.6.5"
  }
 },
 "nbformat": 4,
 "nbformat_minor": 1
}
